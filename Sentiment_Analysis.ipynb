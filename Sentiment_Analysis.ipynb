{
  "nbformat": 4,
  "nbformat_minor": 0,
  "metadata": {
    "colab": {
      "provenance": []
    },
    "kernelspec": {
      "name": "python3",
      "display_name": "Python 3"
    },
    "language_info": {
      "name": "python"
    }
  },
  "cells": [
    {
      "cell_type": "code",
      "execution_count": null,
      "metadata": {
        "id": "NeVDoxlD2QTC"
      },
      "outputs": [],
      "source": [
        "import pandas as pd\n",
        "import numpy as np\n",
        "\n",
        "import matplotlib.pyplot as plt\n",
        "\n",
        "import tensorflow as tf\n",
        "from keras.layers import Dense,Embedding,Flatten,Bidirectional,LSTM\n",
        "from keras import Sequential\n",
        "from keras.preprocessing.text import Tokenizer\n",
        "from keras.preprocessing.sequence import pad_sequences"
      ]
    },
    {
      "cell_type": "code",
      "source": [
        "data=pd.read_csv('/content/drive/MyDrive/Datasets/sentiment_analysis.csv')\n",
        "data.head()"
      ],
      "metadata": {
        "colab": {
          "base_uri": "https://localhost:8080/",
          "height": 206
        },
        "id": "5-gHRaln4T-Y",
        "outputId": "fd5d7c16-32d5-474b-8b13-1a4eabffbde6"
      },
      "execution_count": null,
      "outputs": [
        {
          "output_type": "execute_result",
          "data": {
            "text/plain": [
              "   Year  Month  Day Time of Tweet  \\\n",
              "0  2018      8   18       morning   \n",
              "1  2018      8   18          noon   \n",
              "2  2017      8   18         night   \n",
              "3  2022      6    8       morning   \n",
              "4  2022      6    8          noon   \n",
              "\n",
              "                                                text sentiment     Platform  \n",
              "0              What a great day!!! Looks like dream.  positive    Twitter    \n",
              "1     I feel sorry, I miss you here in the sea beach  positive    Facebook   \n",
              "2                                     Don't angry me  negative     Facebook  \n",
              "3  We attend in the class just for listening teac...  negative    Facebook   \n",
              "4                  Those who want to go, let them go  negative   Instagram   "
            ],
            "text/html": [
              "\n",
              "  <div id=\"df-e6191766-5d2c-420d-905b-a33db540cdfb\" class=\"colab-df-container\">\n",
              "    <div>\n",
              "<style scoped>\n",
              "    .dataframe tbody tr th:only-of-type {\n",
              "        vertical-align: middle;\n",
              "    }\n",
              "\n",
              "    .dataframe tbody tr th {\n",
              "        vertical-align: top;\n",
              "    }\n",
              "\n",
              "    .dataframe thead th {\n",
              "        text-align: right;\n",
              "    }\n",
              "</style>\n",
              "<table border=\"1\" class=\"dataframe\">\n",
              "  <thead>\n",
              "    <tr style=\"text-align: right;\">\n",
              "      <th></th>\n",
              "      <th>Year</th>\n",
              "      <th>Month</th>\n",
              "      <th>Day</th>\n",
              "      <th>Time of Tweet</th>\n",
              "      <th>text</th>\n",
              "      <th>sentiment</th>\n",
              "      <th>Platform</th>\n",
              "    </tr>\n",
              "  </thead>\n",
              "  <tbody>\n",
              "    <tr>\n",
              "      <th>0</th>\n",
              "      <td>2018</td>\n",
              "      <td>8</td>\n",
              "      <td>18</td>\n",
              "      <td>morning</td>\n",
              "      <td>What a great day!!! Looks like dream.</td>\n",
              "      <td>positive</td>\n",
              "      <td>Twitter</td>\n",
              "    </tr>\n",
              "    <tr>\n",
              "      <th>1</th>\n",
              "      <td>2018</td>\n",
              "      <td>8</td>\n",
              "      <td>18</td>\n",
              "      <td>noon</td>\n",
              "      <td>I feel sorry, I miss you here in the sea beach</td>\n",
              "      <td>positive</td>\n",
              "      <td>Facebook</td>\n",
              "    </tr>\n",
              "    <tr>\n",
              "      <th>2</th>\n",
              "      <td>2017</td>\n",
              "      <td>8</td>\n",
              "      <td>18</td>\n",
              "      <td>night</td>\n",
              "      <td>Don't angry me</td>\n",
              "      <td>negative</td>\n",
              "      <td>Facebook</td>\n",
              "    </tr>\n",
              "    <tr>\n",
              "      <th>3</th>\n",
              "      <td>2022</td>\n",
              "      <td>6</td>\n",
              "      <td>8</td>\n",
              "      <td>morning</td>\n",
              "      <td>We attend in the class just for listening teac...</td>\n",
              "      <td>negative</td>\n",
              "      <td>Facebook</td>\n",
              "    </tr>\n",
              "    <tr>\n",
              "      <th>4</th>\n",
              "      <td>2022</td>\n",
              "      <td>6</td>\n",
              "      <td>8</td>\n",
              "      <td>noon</td>\n",
              "      <td>Those who want to go, let them go</td>\n",
              "      <td>negative</td>\n",
              "      <td>Instagram</td>\n",
              "    </tr>\n",
              "  </tbody>\n",
              "</table>\n",
              "</div>\n",
              "    <div class=\"colab-df-buttons\">\n",
              "\n",
              "  <div class=\"colab-df-container\">\n",
              "    <button class=\"colab-df-convert\" onclick=\"convertToInteractive('df-e6191766-5d2c-420d-905b-a33db540cdfb')\"\n",
              "            title=\"Convert this dataframe to an interactive table.\"\n",
              "            style=\"display:none;\">\n",
              "\n",
              "  <svg xmlns=\"http://www.w3.org/2000/svg\" height=\"24px\" viewBox=\"0 -960 960 960\">\n",
              "    <path d=\"M120-120v-720h720v720H120Zm60-500h600v-160H180v160Zm220 220h160v-160H400v160Zm0 220h160v-160H400v160ZM180-400h160v-160H180v160Zm440 0h160v-160H620v160ZM180-180h160v-160H180v160Zm440 0h160v-160H620v160Z\"/>\n",
              "  </svg>\n",
              "    </button>\n",
              "\n",
              "  <style>\n",
              "    .colab-df-container {\n",
              "      display:flex;\n",
              "      gap: 12px;\n",
              "    }\n",
              "\n",
              "    .colab-df-convert {\n",
              "      background-color: #E8F0FE;\n",
              "      border: none;\n",
              "      border-radius: 50%;\n",
              "      cursor: pointer;\n",
              "      display: none;\n",
              "      fill: #1967D2;\n",
              "      height: 32px;\n",
              "      padding: 0 0 0 0;\n",
              "      width: 32px;\n",
              "    }\n",
              "\n",
              "    .colab-df-convert:hover {\n",
              "      background-color: #E2EBFA;\n",
              "      box-shadow: 0px 1px 2px rgba(60, 64, 67, 0.3), 0px 1px 3px 1px rgba(60, 64, 67, 0.15);\n",
              "      fill: #174EA6;\n",
              "    }\n",
              "\n",
              "    .colab-df-buttons div {\n",
              "      margin-bottom: 4px;\n",
              "    }\n",
              "\n",
              "    [theme=dark] .colab-df-convert {\n",
              "      background-color: #3B4455;\n",
              "      fill: #D2E3FC;\n",
              "    }\n",
              "\n",
              "    [theme=dark] .colab-df-convert:hover {\n",
              "      background-color: #434B5C;\n",
              "      box-shadow: 0px 1px 3px 1px rgba(0, 0, 0, 0.15);\n",
              "      filter: drop-shadow(0px 1px 2px rgba(0, 0, 0, 0.3));\n",
              "      fill: #FFFFFF;\n",
              "    }\n",
              "  </style>\n",
              "\n",
              "    <script>\n",
              "      const buttonEl =\n",
              "        document.querySelector('#df-e6191766-5d2c-420d-905b-a33db540cdfb button.colab-df-convert');\n",
              "      buttonEl.style.display =\n",
              "        google.colab.kernel.accessAllowed ? 'block' : 'none';\n",
              "\n",
              "      async function convertToInteractive(key) {\n",
              "        const element = document.querySelector('#df-e6191766-5d2c-420d-905b-a33db540cdfb');\n",
              "        const dataTable =\n",
              "          await google.colab.kernel.invokeFunction('convertToInteractive',\n",
              "                                                    [key], {});\n",
              "        if (!dataTable) return;\n",
              "\n",
              "        const docLinkHtml = 'Like what you see? Visit the ' +\n",
              "          '<a target=\"_blank\" href=https://colab.research.google.com/notebooks/data_table.ipynb>data table notebook</a>'\n",
              "          + ' to learn more about interactive tables.';\n",
              "        element.innerHTML = '';\n",
              "        dataTable['output_type'] = 'display_data';\n",
              "        await google.colab.output.renderOutput(dataTable, element);\n",
              "        const docLink = document.createElement('div');\n",
              "        docLink.innerHTML = docLinkHtml;\n",
              "        element.appendChild(docLink);\n",
              "      }\n",
              "    </script>\n",
              "  </div>\n",
              "\n",
              "\n",
              "<div id=\"df-af570e6d-c370-4838-84f2-6b311784d33c\">\n",
              "  <button class=\"colab-df-quickchart\" onclick=\"quickchart('df-af570e6d-c370-4838-84f2-6b311784d33c')\"\n",
              "            title=\"Suggest charts\"\n",
              "            style=\"display:none;\">\n",
              "\n",
              "<svg xmlns=\"http://www.w3.org/2000/svg\" height=\"24px\"viewBox=\"0 0 24 24\"\n",
              "     width=\"24px\">\n",
              "    <g>\n",
              "        <path d=\"M19 3H5c-1.1 0-2 .9-2 2v14c0 1.1.9 2 2 2h14c1.1 0 2-.9 2-2V5c0-1.1-.9-2-2-2zM9 17H7v-7h2v7zm4 0h-2V7h2v10zm4 0h-2v-4h2v4z\"/>\n",
              "    </g>\n",
              "</svg>\n",
              "  </button>\n",
              "\n",
              "<style>\n",
              "  .colab-df-quickchart {\n",
              "      --bg-color: #E8F0FE;\n",
              "      --fill-color: #1967D2;\n",
              "      --hover-bg-color: #E2EBFA;\n",
              "      --hover-fill-color: #174EA6;\n",
              "      --disabled-fill-color: #AAA;\n",
              "      --disabled-bg-color: #DDD;\n",
              "  }\n",
              "\n",
              "  [theme=dark] .colab-df-quickchart {\n",
              "      --bg-color: #3B4455;\n",
              "      --fill-color: #D2E3FC;\n",
              "      --hover-bg-color: #434B5C;\n",
              "      --hover-fill-color: #FFFFFF;\n",
              "      --disabled-bg-color: #3B4455;\n",
              "      --disabled-fill-color: #666;\n",
              "  }\n",
              "\n",
              "  .colab-df-quickchart {\n",
              "    background-color: var(--bg-color);\n",
              "    border: none;\n",
              "    border-radius: 50%;\n",
              "    cursor: pointer;\n",
              "    display: none;\n",
              "    fill: var(--fill-color);\n",
              "    height: 32px;\n",
              "    padding: 0;\n",
              "    width: 32px;\n",
              "  }\n",
              "\n",
              "  .colab-df-quickchart:hover {\n",
              "    background-color: var(--hover-bg-color);\n",
              "    box-shadow: 0 1px 2px rgba(60, 64, 67, 0.3), 0 1px 3px 1px rgba(60, 64, 67, 0.15);\n",
              "    fill: var(--button-hover-fill-color);\n",
              "  }\n",
              "\n",
              "  .colab-df-quickchart-complete:disabled,\n",
              "  .colab-df-quickchart-complete:disabled:hover {\n",
              "    background-color: var(--disabled-bg-color);\n",
              "    fill: var(--disabled-fill-color);\n",
              "    box-shadow: none;\n",
              "  }\n",
              "\n",
              "  .colab-df-spinner {\n",
              "    border: 2px solid var(--fill-color);\n",
              "    border-color: transparent;\n",
              "    border-bottom-color: var(--fill-color);\n",
              "    animation:\n",
              "      spin 1s steps(1) infinite;\n",
              "  }\n",
              "\n",
              "  @keyframes spin {\n",
              "    0% {\n",
              "      border-color: transparent;\n",
              "      border-bottom-color: var(--fill-color);\n",
              "      border-left-color: var(--fill-color);\n",
              "    }\n",
              "    20% {\n",
              "      border-color: transparent;\n",
              "      border-left-color: var(--fill-color);\n",
              "      border-top-color: var(--fill-color);\n",
              "    }\n",
              "    30% {\n",
              "      border-color: transparent;\n",
              "      border-left-color: var(--fill-color);\n",
              "      border-top-color: var(--fill-color);\n",
              "      border-right-color: var(--fill-color);\n",
              "    }\n",
              "    40% {\n",
              "      border-color: transparent;\n",
              "      border-right-color: var(--fill-color);\n",
              "      border-top-color: var(--fill-color);\n",
              "    }\n",
              "    60% {\n",
              "      border-color: transparent;\n",
              "      border-right-color: var(--fill-color);\n",
              "    }\n",
              "    80% {\n",
              "      border-color: transparent;\n",
              "      border-right-color: var(--fill-color);\n",
              "      border-bottom-color: var(--fill-color);\n",
              "    }\n",
              "    90% {\n",
              "      border-color: transparent;\n",
              "      border-bottom-color: var(--fill-color);\n",
              "    }\n",
              "  }\n",
              "</style>\n",
              "\n",
              "  <script>\n",
              "    async function quickchart(key) {\n",
              "      const quickchartButtonEl =\n",
              "        document.querySelector('#' + key + ' button');\n",
              "      quickchartButtonEl.disabled = true;  // To prevent multiple clicks.\n",
              "      quickchartButtonEl.classList.add('colab-df-spinner');\n",
              "      try {\n",
              "        const charts = await google.colab.kernel.invokeFunction(\n",
              "            'suggestCharts', [key], {});\n",
              "      } catch (error) {\n",
              "        console.error('Error during call to suggestCharts:', error);\n",
              "      }\n",
              "      quickchartButtonEl.classList.remove('colab-df-spinner');\n",
              "      quickchartButtonEl.classList.add('colab-df-quickchart-complete');\n",
              "    }\n",
              "    (() => {\n",
              "      let quickchartButtonEl =\n",
              "        document.querySelector('#df-af570e6d-c370-4838-84f2-6b311784d33c button');\n",
              "      quickchartButtonEl.style.display =\n",
              "        google.colab.kernel.accessAllowed ? 'block' : 'none';\n",
              "    })();\n",
              "  </script>\n",
              "</div>\n",
              "\n",
              "    </div>\n",
              "  </div>\n"
            ],
            "application/vnd.google.colaboratory.intrinsic+json": {
              "type": "dataframe",
              "variable_name": "data",
              "summary": "{\n  \"name\": \"data\",\n  \"rows\": 499,\n  \"fields\": [\n    {\n      \"column\": \"Year\",\n      \"properties\": {\n        \"dtype\": \"number\",\n        \"std\": 2,\n        \"min\": 2010,\n        \"max\": 2023,\n        \"num_unique_values\": 14,\n        \"samples\": [\n          2015,\n          2013,\n          2018\n        ],\n        \"semantic_type\": \"\",\n        \"description\": \"\"\n      }\n    },\n    {\n      \"column\": \"Month\",\n      \"properties\": {\n        \"dtype\": \"number\",\n        \"std\": 3,\n        \"min\": 1,\n        \"max\": 12,\n        \"num_unique_values\": 12,\n        \"samples\": [\n          7,\n          3,\n          8\n        ],\n        \"semantic_type\": \"\",\n        \"description\": \"\"\n      }\n    },\n    {\n      \"column\": \"Day\",\n      \"properties\": {\n        \"dtype\": \"number\",\n        \"std\": 8,\n        \"min\": 1,\n        \"max\": 31,\n        \"num_unique_values\": 31,\n        \"samples\": [\n          16,\n          20,\n          19\n        ],\n        \"semantic_type\": \"\",\n        \"description\": \"\"\n      }\n    },\n    {\n      \"column\": \"Time of Tweet\",\n      \"properties\": {\n        \"dtype\": \"category\",\n        \"num_unique_values\": 3,\n        \"samples\": [\n          \"morning\",\n          \"noon\",\n          \"night\"\n        ],\n        \"semantic_type\": \"\",\n        \"description\": \"\"\n      }\n    },\n    {\n      \"column\": \"text\",\n      \"properties\": {\n        \"dtype\": \"string\",\n        \"num_unique_values\": 394,\n        \"samples\": [\n          \" Sounds like me\",\n          \" yeah real hard, but I know you`ll get by with it... smile\",\n          \"I saw amazing heeels. But they were too big\"\n        ],\n        \"semantic_type\": \"\",\n        \"description\": \"\"\n      }\n    },\n    {\n      \"column\": \"sentiment\",\n      \"properties\": {\n        \"dtype\": \"category\",\n        \"num_unique_values\": 3,\n        \"samples\": [\n          \"positive\",\n          \"negative\",\n          \"neutral\"\n        ],\n        \"semantic_type\": \"\",\n        \"description\": \"\"\n      }\n    },\n    {\n      \"column\": \"Platform\",\n      \"properties\": {\n        \"dtype\": \"category\",\n        \"num_unique_values\": 5,\n        \"samples\": [\n          \" Facebook \",\n          \" Twitter \",\n          \"Facebook\"\n        ],\n        \"semantic_type\": \"\",\n        \"description\": \"\"\n      }\n    }\n  ]\n}"
            }
          },
          "metadata": {},
          "execution_count": 105
        }
      ]
    },
    {
      "cell_type": "code",
      "source": [
        "data['sentiment'].unique()"
      ],
      "metadata": {
        "colab": {
          "base_uri": "https://localhost:8080/"
        },
        "id": "gjVfNZ4UIqVw",
        "outputId": "32c70f13-4513-444c-c751-8bb861e644b6"
      },
      "execution_count": null,
      "outputs": [
        {
          "output_type": "execute_result",
          "data": {
            "text/plain": [
              "array(['positive', 'negative', 'neutral'], dtype=object)"
            ]
          },
          "metadata": {},
          "execution_count": 106
        }
      ]
    },
    {
      "cell_type": "code",
      "source": [
        "'positive' in data['sentiment'].values"
      ],
      "metadata": {
        "colab": {
          "base_uri": "https://localhost:8080/"
        },
        "id": "oBLXv-ziH_4x",
        "outputId": "9003b2d4-a7b0-49d5-b4f7-f1f63001f6ea"
      },
      "execution_count": null,
      "outputs": [
        {
          "output_type": "execute_result",
          "data": {
            "text/plain": [
              "True"
            ]
          },
          "metadata": {},
          "execution_count": 107
        }
      ]
    },
    {
      "cell_type": "code",
      "source": [
        "def convertToint():\n",
        "  data['sentiment'].replace(to_replace='positive',value=1,inplace=True)\n",
        "  data['sentiment'].replace(to_replace='negative',value=0,inplace=True)\n",
        "  data['sentiment'].replace(to_replace='neutral',value=2,inplace=True)\n",
        "\n"
      ],
      "metadata": {
        "id": "5dNYUKPyGvwt"
      },
      "execution_count": null,
      "outputs": []
    },
    {
      "cell_type": "code",
      "source": [
        "convertToint()"
      ],
      "metadata": {
        "id": "wbvu6mq9HSOq"
      },
      "execution_count": null,
      "outputs": []
    },
    {
      "cell_type": "code",
      "source": [
        "data['sentiment'].head()"
      ],
      "metadata": {
        "colab": {
          "base_uri": "https://localhost:8080/"
        },
        "id": "SQufNF9QIYMA",
        "outputId": "5f48e421-87bd-49a5-f5b5-98168ebb521e"
      },
      "execution_count": null,
      "outputs": [
        {
          "output_type": "execute_result",
          "data": {
            "text/plain": [
              "0    1\n",
              "1    1\n",
              "2    0\n",
              "3    0\n",
              "4    0\n",
              "Name: sentiment, dtype: int64"
            ]
          },
          "metadata": {},
          "execution_count": 110
        }
      ]
    },
    {
      "cell_type": "code",
      "source": [
        "data['sentiment'].unique()"
      ],
      "metadata": {
        "colab": {
          "base_uri": "https://localhost:8080/"
        },
        "id": "GKsyUMfvJJry",
        "outputId": "7307fc0f-5e72-4ca4-ab29-f66ef7f836b9"
      },
      "execution_count": null,
      "outputs": [
        {
          "output_type": "execute_result",
          "data": {
            "text/plain": [
              "array([1, 0, 2])"
            ]
          },
          "metadata": {},
          "execution_count": 111
        }
      ]
    },
    {
      "cell_type": "code",
      "source": [
        "test_size=round(len(data)*0.3)\n",
        "train_size=len(data)-test_size"
      ],
      "metadata": {
        "id": "C8h7s6VY4m-Y"
      },
      "execution_count": null,
      "outputs": []
    },
    {
      "cell_type": "code",
      "source": [
        "train_size,test_size"
      ],
      "metadata": {
        "colab": {
          "base_uri": "https://localhost:8080/"
        },
        "id": "3XM9fOQ8DVjE",
        "outputId": "fd3d4cd8-32da-4c26-937b-7bebb769156a"
      },
      "execution_count": null,
      "outputs": [
        {
          "output_type": "execute_result",
          "data": {
            "text/plain": [
              "(349, 150)"
            ]
          },
          "metadata": {},
          "execution_count": 113
        }
      ]
    },
    {
      "cell_type": "code",
      "source": [
        "len(data['text'].max())"
      ],
      "metadata": {
        "colab": {
          "base_uri": "https://localhost:8080/"
        },
        "id": "5Nv7rjtNDq5l",
        "outputId": "9b0c03e7-f250-4983-b174-38bf52dc23d4"
      },
      "execution_count": null,
      "outputs": [
        {
          "output_type": "execute_result",
          "data": {
            "text/plain": [
              "40"
            ]
          },
          "metadata": {},
          "execution_count": 114
        }
      ]
    },
    {
      "cell_type": "code",
      "source": [
        "len(data['text'].min())"
      ],
      "metadata": {
        "colab": {
          "base_uri": "https://localhost:8080/"
        },
        "id": "9Ec4d7L8D04L",
        "outputId": "243af2e5-6e27-4466-c6a3-1a345f72c71e"
      },
      "execution_count": null,
      "outputs": [
        {
          "output_type": "execute_result",
          "data": {
            "text/plain": [
              "36"
            ]
          },
          "metadata": {},
          "execution_count": 115
        }
      ]
    },
    {
      "cell_type": "code",
      "source": [
        "\n",
        "max_length=40\n",
        "\n",
        "vocab_size=10000"
      ],
      "metadata": {
        "id": "vE7GKnNQD4bU"
      },
      "execution_count": null,
      "outputs": []
    },
    {
      "cell_type": "code",
      "source": [
        "train_sentences=data['text'][0:train_size]\n",
        "test_sentences=data['text'][train_size:]\n",
        "\n",
        "train_labels=data['sentiment'][0:train_size]\n",
        "test_labels=data['sentiment'][train_size:]"
      ],
      "metadata": {
        "id": "SxEOE1UXEJw1"
      },
      "execution_count": null,
      "outputs": []
    },
    {
      "cell_type": "code",
      "source": [
        "trunc_type='post'\n",
        "padding_type='post'\n",
        "oov_tok='<OOV>'"
      ],
      "metadata": {
        "id": "1RnP3ExWEgPm"
      },
      "execution_count": null,
      "outputs": []
    },
    {
      "cell_type": "code",
      "source": [],
      "metadata": {
        "id": "jeEVjXfHGc-n"
      },
      "execution_count": null,
      "outputs": []
    },
    {
      "cell_type": "code",
      "source": [
        "tokenizer=Tokenizer(num_words=vocab_size,oov_token=oov_tok)\n",
        "tokenizer.fit_on_texts(train_sentences)\n",
        "word_index=tokenizer.word_index\n",
        "\n",
        "\n",
        "train_seq=tokenizer.texts_to_sequences(train_sentences)\n",
        "train_padded=pad_sequences(train_seq,truncating='post',padding='post',maxlen=40)\n",
        "\n",
        "test_seq=tokenizer.texts_to_sequences(test_sentences)\n",
        "test_padded=pad_sequences(test_seq,truncating='post',padding='post',maxlen=40)\n",
        "\n"
      ],
      "metadata": {
        "id": "uWkiNTAoFIRR"
      },
      "execution_count": null,
      "outputs": []
    },
    {
      "cell_type": "code",
      "source": [
        "model=Sequential([\n",
        "    Embedding(vocab_size,16,input_length=max_length),\n",
        "    Flatten(),\n",
        "    Dense(128,activation='relu'),\n",
        "    Dense(64,activation='relu'),\n",
        "    Dense(3,activation='softmax')\n",
        "\n",
        "])"
      ],
      "metadata": {
        "id": "5tSKIT78KaW9"
      },
      "execution_count": null,
      "outputs": []
    },
    {
      "cell_type": "code",
      "source": [
        "model.compile(optimizer='adam',loss=tf.keras.losses.SparseCategoricalCrossentropy(),metrics=['accuracy'])"
      ],
      "metadata": {
        "id": "q5QGKztKLmIA"
      },
      "execution_count": null,
      "outputs": []
    },
    {
      "cell_type": "code",
      "source": [
        "model.fit(train_padded,train_labels,epochs=30,validation_data=(test_padded,test_labels))"
      ],
      "metadata": {
        "colab": {
          "base_uri": "https://localhost:8080/"
        },
        "id": "pr2dlw5XL5Vw",
        "outputId": "c82ba276-aae1-422c-b2b1-ac44038fc147"
      },
      "execution_count": null,
      "outputs": [
        {
          "output_type": "stream",
          "name": "stdout",
          "text": [
            "Epoch 1/30\n",
            "11/11 [==============================] - 1s 32ms/step - loss: 1.0805 - accuracy: 0.4069 - val_loss: 1.1357 - val_accuracy: 0.3400\n",
            "Epoch 2/30\n",
            "11/11 [==============================] - 0s 11ms/step - loss: 1.0358 - accuracy: 0.4814 - val_loss: 1.1432 - val_accuracy: 0.3400\n",
            "Epoch 3/30\n",
            "11/11 [==============================] - 0s 10ms/step - loss: 0.9859 - accuracy: 0.5215 - val_loss: 1.1466 - val_accuracy: 0.3467\n",
            "Epoch 4/30\n",
            "11/11 [==============================] - 0s 12ms/step - loss: 0.8818 - accuracy: 0.7106 - val_loss: 1.1813 - val_accuracy: 0.3133\n",
            "Epoch 5/30\n",
            "11/11 [==============================] - 0s 13ms/step - loss: 0.6977 - accuracy: 0.7536 - val_loss: 1.1946 - val_accuracy: 0.3333\n",
            "Epoch 6/30\n",
            "11/11 [==============================] - 0s 10ms/step - loss: 0.4469 - accuracy: 0.8940 - val_loss: 1.2136 - val_accuracy: 0.3267\n",
            "Epoch 7/30\n",
            "11/11 [==============================] - 0s 11ms/step - loss: 0.2431 - accuracy: 0.9685 - val_loss: 1.3836 - val_accuracy: 0.3400\n",
            "Epoch 8/30\n",
            "11/11 [==============================] - 0s 11ms/step - loss: 0.1295 - accuracy: 0.9771 - val_loss: 1.5240 - val_accuracy: 0.3467\n",
            "Epoch 9/30\n",
            "11/11 [==============================] - 0s 12ms/step - loss: 0.0735 - accuracy: 0.9857 - val_loss: 1.5351 - val_accuracy: 0.3000\n",
            "Epoch 10/30\n",
            "11/11 [==============================] - 0s 11ms/step - loss: 0.0461 - accuracy: 0.9914 - val_loss: 1.6681 - val_accuracy: 0.4067\n",
            "Epoch 11/30\n",
            "11/11 [==============================] - 0s 12ms/step - loss: 0.0337 - accuracy: 0.9943 - val_loss: 1.5669 - val_accuracy: 0.3333\n",
            "Epoch 12/30\n",
            "11/11 [==============================] - 0s 12ms/step - loss: 0.0215 - accuracy: 0.9971 - val_loss: 1.6632 - val_accuracy: 0.3400\n",
            "Epoch 13/30\n",
            "11/11 [==============================] - 0s 12ms/step - loss: 0.0192 - accuracy: 0.9943 - val_loss: 1.6796 - val_accuracy: 0.3467\n",
            "Epoch 14/30\n",
            "11/11 [==============================] - 0s 11ms/step - loss: 0.0142 - accuracy: 0.9971 - val_loss: 1.6779 - val_accuracy: 0.3533\n",
            "Epoch 15/30\n",
            "11/11 [==============================] - 0s 11ms/step - loss: 0.0132 - accuracy: 0.9971 - val_loss: 1.7146 - val_accuracy: 0.3467\n",
            "Epoch 16/30\n",
            "11/11 [==============================] - 0s 12ms/step - loss: 0.0143 - accuracy: 0.9914 - val_loss: 1.7667 - val_accuracy: 0.3333\n",
            "Epoch 17/30\n",
            "11/11 [==============================] - 0s 14ms/step - loss: 0.0138 - accuracy: 0.9971 - val_loss: 1.7976 - val_accuracy: 0.3333\n",
            "Epoch 18/30\n",
            "11/11 [==============================] - 0s 12ms/step - loss: 0.0125 - accuracy: 0.9914 - val_loss: 1.8306 - val_accuracy: 0.3400\n",
            "Epoch 19/30\n",
            "11/11 [==============================] - 0s 12ms/step - loss: 0.0091 - accuracy: 0.9971 - val_loss: 1.8665 - val_accuracy: 0.3400\n",
            "Epoch 20/30\n",
            "11/11 [==============================] - 0s 12ms/step - loss: 0.0090 - accuracy: 0.9971 - val_loss: 1.8689 - val_accuracy: 0.3533\n",
            "Epoch 21/30\n",
            "11/11 [==============================] - 0s 12ms/step - loss: 0.0091 - accuracy: 0.9943 - val_loss: 1.8758 - val_accuracy: 0.3600\n",
            "Epoch 22/30\n",
            "11/11 [==============================] - 0s 13ms/step - loss: 0.0129 - accuracy: 0.9971 - val_loss: 1.8633 - val_accuracy: 0.3400\n",
            "Epoch 23/30\n",
            "11/11 [==============================] - 0s 11ms/step - loss: 0.0079 - accuracy: 0.9971 - val_loss: 2.0891 - val_accuracy: 0.3467\n",
            "Epoch 24/30\n",
            "11/11 [==============================] - 0s 14ms/step - loss: 0.0096 - accuracy: 0.9943 - val_loss: 1.8543 - val_accuracy: 0.3400\n",
            "Epoch 25/30\n",
            "11/11 [==============================] - 0s 12ms/step - loss: 0.0147 - accuracy: 0.9971 - val_loss: 1.9456 - val_accuracy: 0.3400\n",
            "Epoch 26/30\n",
            "11/11 [==============================] - 0s 12ms/step - loss: 0.0141 - accuracy: 0.9943 - val_loss: 1.9201 - val_accuracy: 0.3467\n",
            "Epoch 27/30\n",
            "11/11 [==============================] - 0s 11ms/step - loss: 0.0108 - accuracy: 0.9971 - val_loss: 1.9107 - val_accuracy: 0.3467\n",
            "Epoch 28/30\n",
            "11/11 [==============================] - 0s 12ms/step - loss: 0.0069 - accuracy: 0.9971 - val_loss: 2.0114 - val_accuracy: 0.3533\n",
            "Epoch 29/30\n",
            "11/11 [==============================] - 0s 11ms/step - loss: 0.0071 - accuracy: 0.9971 - val_loss: 2.0709 - val_accuracy: 0.3533\n",
            "Epoch 30/30\n",
            "11/11 [==============================] - 0s 12ms/step - loss: 0.0075 - accuracy: 0.9914 - val_loss: 2.0275 - val_accuracy: 0.3467\n"
          ]
        },
        {
          "output_type": "execute_result",
          "data": {
            "text/plain": [
              "<keras.src.callbacks.History at 0x7828e9c08790>"
            ]
          },
          "metadata": {},
          "execution_count": 138
        }
      ]
    },
    {
      "cell_type": "code",
      "source": [
        "model=Sequential([\n",
        "    Embedding(vocab_size,16,input_length=40),\n",
        "    Bidirectional(LSTM(32,return_sequences=True)),\n",
        "    Bidirectional(LSTM(32)),\n",
        "    Dense(32,activation='relu'),\n",
        "    Dense(3,activation='softmax')\n",
        "])"
      ],
      "metadata": {
        "id": "ngfzUEOSMaTZ"
      },
      "execution_count": null,
      "outputs": []
    },
    {
      "cell_type": "code",
      "source": [
        "model.compile(optimizer='adam',loss=tf.keras.losses.SparseCategoricalCrossentropy(),metrics=['accuracy'])"
      ],
      "metadata": {
        "id": "8MvFbGjfTacZ"
      },
      "execution_count": null,
      "outputs": []
    },
    {
      "cell_type": "code",
      "source": [
        "model.fit(train_padded,train_labels,epochs=20,validation_data=(test_padded,test_labels))"
      ],
      "metadata": {
        "colab": {
          "base_uri": "https://localhost:8080/"
        },
        "id": "S7uYQGP_T17o",
        "outputId": "34ab9241-4c0a-4a1e-85b9-9b01c27c3ddc"
      },
      "execution_count": null,
      "outputs": [
        {
          "output_type": "stream",
          "name": "stdout",
          "text": [
            "Epoch 1/20\n",
            "11/11 [==============================] - 14s 357ms/step - loss: 1.0853 - accuracy: 0.4241 - val_loss: 1.1201 - val_accuracy: 0.3400\n",
            "Epoch 2/20\n",
            "11/11 [==============================] - 1s 75ms/step - loss: 1.0666 - accuracy: 0.4241 - val_loss: 1.1710 - val_accuracy: 0.3400\n",
            "Epoch 3/20\n",
            "11/11 [==============================] - 1s 81ms/step - loss: 1.0651 - accuracy: 0.4241 - val_loss: 1.1250 - val_accuracy: 0.3400\n",
            "Epoch 4/20\n",
            "11/11 [==============================] - 1s 75ms/step - loss: 1.0495 - accuracy: 0.4241 - val_loss: 1.1390 - val_accuracy: 0.3400\n",
            "Epoch 5/20\n",
            "11/11 [==============================] - 1s 78ms/step - loss: 1.0052 - accuracy: 0.4241 - val_loss: 1.2035 - val_accuracy: 0.3400\n",
            "Epoch 6/20\n",
            "11/11 [==============================] - 1s 79ms/step - loss: 0.8603 - accuracy: 0.5272 - val_loss: 1.5794 - val_accuracy: 0.3667\n",
            "Epoch 7/20\n",
            "11/11 [==============================] - 1s 79ms/step - loss: 0.7300 - accuracy: 0.8138 - val_loss: 1.5500 - val_accuracy: 0.3533\n",
            "Epoch 8/20\n",
            "11/11 [==============================] - 1s 82ms/step - loss: 0.4885 - accuracy: 0.8825 - val_loss: 1.7056 - val_accuracy: 0.4533\n",
            "Epoch 9/20\n",
            "11/11 [==============================] - 1s 81ms/step - loss: 0.2875 - accuracy: 0.9198 - val_loss: 1.8058 - val_accuracy: 0.4000\n",
            "Epoch 10/20\n",
            "11/11 [==============================] - 1s 78ms/step - loss: 0.1313 - accuracy: 0.9713 - val_loss: 2.4459 - val_accuracy: 0.4000\n",
            "Epoch 11/20\n",
            "11/11 [==============================] - 1s 74ms/step - loss: 0.0574 - accuracy: 0.9857 - val_loss: 2.8494 - val_accuracy: 0.4133\n",
            "Epoch 12/20\n",
            "11/11 [==============================] - 1s 113ms/step - loss: 0.0235 - accuracy: 0.9943 - val_loss: 3.3150 - val_accuracy: 0.3733\n",
            "Epoch 13/20\n",
            "11/11 [==============================] - 1s 129ms/step - loss: 0.0215 - accuracy: 0.9971 - val_loss: 3.3210 - val_accuracy: 0.4267\n",
            "Epoch 14/20\n",
            "11/11 [==============================] - 1s 136ms/step - loss: 0.0199 - accuracy: 0.9971 - val_loss: 3.6364 - val_accuracy: 0.3800\n",
            "Epoch 15/20\n",
            "11/11 [==============================] - 1s 84ms/step - loss: 0.0124 - accuracy: 0.9971 - val_loss: 3.6871 - val_accuracy: 0.3800\n",
            "Epoch 16/20\n",
            "11/11 [==============================] - 1s 76ms/step - loss: 0.0369 - accuracy: 0.9885 - val_loss: 3.6429 - val_accuracy: 0.4067\n",
            "Epoch 17/20\n",
            "11/11 [==============================] - 1s 81ms/step - loss: 0.0630 - accuracy: 0.9799 - val_loss: 2.6177 - val_accuracy: 0.4067\n",
            "Epoch 18/20\n",
            "11/11 [==============================] - 1s 83ms/step - loss: 0.0324 - accuracy: 0.9943 - val_loss: 2.2984 - val_accuracy: 0.4200\n",
            "Epoch 19/20\n",
            "11/11 [==============================] - 1s 79ms/step - loss: 0.0283 - accuracy: 0.9885 - val_loss: 2.8027 - val_accuracy: 0.4200\n",
            "Epoch 20/20\n",
            "11/11 [==============================] - 1s 80ms/step - loss: 0.0202 - accuracy: 0.9943 - val_loss: 3.2349 - val_accuracy: 0.3667\n"
          ]
        },
        {
          "output_type": "execute_result",
          "data": {
            "text/plain": [
              "<keras.src.callbacks.History at 0x7828f02cf4c0>"
            ]
          },
          "metadata": {},
          "execution_count": 144
        }
      ]
    },
    {
      "cell_type": "code",
      "source": [],
      "metadata": {
        "id": "xmo_WRYJUHah"
      },
      "execution_count": null,
      "outputs": []
    }
  ]
}